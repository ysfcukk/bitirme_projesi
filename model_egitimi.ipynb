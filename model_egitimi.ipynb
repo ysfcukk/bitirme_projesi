{
 "cells": [
  {
   "cell_type": "markdown",
   "id": "0121826b",
   "metadata": {},
   "source": [
    "# Gerekli Kütüphanelerin Eklenmesi"
   ]
  },
  {
   "cell_type": "code",
   "execution_count": 1,
   "id": "e1f7cf14",
   "metadata": {},
   "outputs": [
    {
     "name": "stderr",
     "output_type": "stream",
     "text": [
      "C:\\Users\\yusuf\\anaconda3\\lib\\site-packages\\scipy\\__init__.py:155: UserWarning: A NumPy version >=1.18.5 and <1.25.0 is required for this version of SciPy (detected version 1.26.2\n",
      "  warnings.warn(f\"A NumPy version >={np_minversion} and <{np_maxversion}\"\n"
     ]
    }
   ],
   "source": [
    "import os\n",
    "import cv2 as cv\n",
    "import pickle\n",
    "import numpy as np\n",
    "import pandas as pd\n",
    "from tensorflow.keras.utils import to_categorical\n",
    "import matplotlib.pyplot as plt\n",
    "from sklearn.model_selection import train_test_split\n",
    "from tensorflow.keras.layers import Dense, Conv2D, MaxPooling2D, Flatten, Dropout, BatchNormalization, GlobalAveragePooling2D\n",
    "from tensorflow.keras.models import Sequential, Model, load_model\n",
    "import tensorflow as tf\n",
    "from tensorflow.keras.callbacks import EarlyStopping\n",
    "import multiprocessing\n",
    "from sklearn.svm import SVC\n",
    "from tensorflow.keras.applications import MobileNet, vgg19\n",
    "from skimage.feature import local_binary_pattern, hog\n"
   ]
  },
  {
   "cell_type": "code",
   "execution_count": 2,
   "id": "31fd3fc2",
   "metadata": {},
   "outputs": [],
   "source": [
    "def face_dedector(img):\n",
    "\n",
    "    classifier = cv.CascadeClassifier(\"haarcascade_frontalface_default.xml\")\n",
    "    gray = cv.cvtColor(img, cv.COLOR_BGR2GRAY)\n",
    "\n",
    "    faces = classifier.detectMultiScale(gray,1.5,4)\n",
    "    if(len(faces)==0):\n",
    "        return None,None\n",
    "    else:\n",
    "        x,y,w,h = faces[0]\n",
    "    \n",
    "    return img[y:y+h, x:x+w], [x,y,w,h]"
   ]
  },
  {
   "cell_type": "markdown",
   "id": "d38694d7",
   "metadata": {},
   "source": [
    "# Veri Setlerinin Yüklenmesi"
   ]
  },
  {
   "cell_type": "code",
   "execution_count": 3,
   "id": "dcc038c0",
   "metadata": {},
   "outputs": [],
   "source": [
    "file_path = 'veri_setleri'\n",
    "\n",
    "images = []\n",
    "labels = []\n",
    "labels_dict = {}\n",
    "img_size = 96"
   ]
  },
  {
   "cell_type": "code",
   "execution_count": 4,
   "id": "30cb56de",
   "metadata": {},
   "outputs": [
    {
     "data": {
      "text/plain": [
       "'\\nname = f\"last_images_x{img_size}.pkl\"\\n\\nwith open(name, \\'wb\\') as file:\\n    pickle.dump(images, file)\\nwith open(\\'last_labels.pkl\\', \\'wb\\') as file:\\n    pickle.dump(labels, file)\\nwith open(\\'last_labels_dict.pkl\\', \\'wb\\') as file:\\n    pickle.dump(labels_dict, file)\\n'"
      ]
     },
     "execution_count": 4,
     "metadata": {},
     "output_type": "execute_result"
    }
   ],
   "source": [
    "# -> resimler alındı ve kaydedildi \n",
    "'''\n",
    "for dataset in os.listdir(file_path):\n",
    "    \n",
    "    dataset_path = f'{file_path}\\\\{dataset}'\n",
    "    \n",
    "    for index,label in enumerate(os.listdir(dataset_path)):\n",
    "        \n",
    "        label_path = f'{dataset_path}\\\\{label}'\n",
    "        \n",
    "        labels_dict[index] = label\n",
    "        \n",
    "        for image in os.listdir(label_path):\n",
    "            \n",
    "            image_path = f'{label_path}\\\\{image}'\n",
    "            \n",
    "            img = cv.imread(image_path)\n",
    "            \n",
    "            # Resimler (img_size x img_size) boyutuna getirildi ve gri tona donusturuldu.\n",
    "            \n",
    "            img = cv.resize(img,(img_size,img_size))\n",
    "            img = cv.cvtColor(img,cv.COLOR_BGR2GRAY)\n",
    "            \n",
    "            images.append(img)\n",
    "            labels.append(index)\n",
    "'''\n",
    "\n",
    "\n",
    "# AffectNet veri setindeki yüzlerin tespit edilmesi\n",
    "'''\n",
    "dataset_path = \"veri_setleri\\\\AffectNet\"\n",
    "save_path = \"veri_setleri\\\\AffectNetFaces\"\n",
    "\n",
    "for index,label in enumerate(os.listdir(dataset_path)):\n",
    "        \n",
    "        label_path = f'{dataset_path}\\\\{label}'\n",
    "        \n",
    "        sayac = 0\n",
    "        \n",
    "        for image in os.listdir(label_path):\n",
    "            \n",
    "            image_path = f'{label_path}\\\\{image}'\n",
    "            \n",
    "            img = cv.imread(image_path)\n",
    "            \n",
    "            face = face_dedector(img)[0]\n",
    "            \n",
    "            \n",
    "            if face is not None:\n",
    "                face = cv.resize(face,(img_size,img_size))\n",
    "            \n",
    "                img_name = f\"{save_path}\\\\{label}\\\\image{sayac}.jpg\"\n",
    "                sayac = sayac + 1\n",
    "            \n",
    "                cv.imwrite(img_name, face)\n",
    "'''\n",
    "\n",
    "\n",
    "'''\n",
    "name = f\"last_images_x{img_size}.pkl\"\n",
    "\n",
    "with open(name, 'wb') as file:\n",
    "    pickle.dump(images, file)\n",
    "with open('last_labels.pkl', 'wb') as file:\n",
    "    pickle.dump(labels, file)\n",
    "with open('last_labels_dict.pkl', 'wb') as file:\n",
    "    pickle.dump(labels_dict, file)\n",
    "'''"
   ]
  },
  {
   "cell_type": "code",
   "execution_count": 5,
   "id": "5cb7a4ae",
   "metadata": {},
   "outputs": [],
   "source": [
    "name = f\"without_fer_images_{img_size}.pkl\"\n",
    "with open(name, 'rb') as file:\n",
    "    images = pickle.load(file)\n",
    "with open('without_fer_labels.pkl', 'rb') as file:\n",
    "    labels = pickle.load(file)\n",
    "with open('without_fer_labels_dict.pkl', 'rb') as file:\n",
    "    labels_dict = pickle.load(file)"
   ]
  },
  {
   "cell_type": "code",
   "execution_count": 6,
   "id": "72efa89c",
   "metadata": {},
   "outputs": [
    {
     "data": {
      "text/plain": [
       "{0: 'angry',\n",
       " 1: 'disgust',\n",
       " 2: 'fear',\n",
       " 3: 'happy',\n",
       " 4: 'neutral',\n",
       " 5: 'sad',\n",
       " 6: 'surprise'}"
      ]
     },
     "execution_count": 6,
     "metadata": {},
     "output_type": "execute_result"
    }
   ],
   "source": [
    "images\n",
    "labels_dict"
   ]
  },
  {
   "cell_type": "markdown",
   "id": "3d68ed9a",
   "metadata": {},
   "source": [
    "# Veri Setlerinin Düzenlenmesi"
   ]
  },
  {
   "cell_type": "code",
   "execution_count": 7,
   "id": "8fd77961",
   "metadata": {},
   "outputs": [],
   "source": [
    "#diziler numpy dizilerine dönüştürüldü\n",
    "\n",
    "result_images = np.asarray(images)\n",
    "images = np.asarray(images)\n",
    "labels = np.asarray(labels)"
   ]
  },
  {
   "cell_type": "code",
   "execution_count": 8,
   "id": "aeb95d5e",
   "metadata": {},
   "outputs": [
    {
     "name": "stdout",
     "output_type": "stream",
     "text": [
      "(41510, 96, 96)\n",
      "(41510,)\n"
     ]
    }
   ],
   "source": [
    "print(result_images.shape)\n",
    "print(labels.shape)"
   ]
  },
  {
   "cell_type": "code",
   "execution_count": 9,
   "id": "eb864a51",
   "metadata": {},
   "outputs": [
    {
     "data": {
      "text/plain": [
       "array([[[ 76,  74,  70, ...,  45,  46,  46],\n",
       "        [ 75,  73,  68, ...,  43,  44,  44],\n",
       "        [ 73,  70,  64, ...,  42,  42,  43],\n",
       "        ...,\n",
       "        [ 20,  21,  21, ...,  36,  45,  37],\n",
       "        [ 21,  21,  21, ...,  29,  31,  29],\n",
       "        [ 19,  20,  21, ...,  23,  29,  23]],\n",
       "\n",
       "       [[255, 255, 255, ..., 254, 254, 254],\n",
       "        [255, 255, 255, ..., 254, 254, 254],\n",
       "        [255, 255, 255, ..., 254, 255, 254],\n",
       "        ...,\n",
       "        [255, 255, 255, ..., 254, 255, 255],\n",
       "        [255, 255, 255, ..., 254, 254, 254],\n",
       "        [255, 255, 255, ..., 254, 254, 254]],\n",
       "\n",
       "       [[123, 121, 120, ...,  21,  22,  22],\n",
       "        [119, 121, 124, ...,  21,  21,  21],\n",
       "        [122, 120, 117, ...,  21,  21,  21],\n",
       "        ...,\n",
       "        [  4,  10,   4, ...,  18,  21,  25],\n",
       "        [ 13,   4,  27, ...,  93, 233,  20],\n",
       "        [ 26,   9,  17, ...,  17,  22,  21]],\n",
       "\n",
       "       ...,\n",
       "\n",
       "       [[109,  91,  97, ..., 172, 166, 163],\n",
       "        [ 99,  97, 116, ..., 170, 164, 161],\n",
       "        [ 90, 108, 141, ..., 167, 161, 158],\n",
       "        ...,\n",
       "        [221, 206, 203, ..., 139, 138, 137],\n",
       "        [222, 212, 212, ..., 138, 141, 144],\n",
       "        [220, 213, 211, ..., 156, 159, 161]],\n",
       "\n",
       "       [[ 10,  10,  10, ...,  32,  30,  29],\n",
       "        [ 10,  10,  10, ...,  32,  30,  29],\n",
       "        [ 10,  10,  10, ...,  36,  34,  32],\n",
       "        ...,\n",
       "        [115, 119, 113, ..., 100,  97,  94],\n",
       "        [105, 118, 110, ...,  94,  91,  87],\n",
       "        [ 79,  95,  93, ...,  89,  86,  83]],\n",
       "\n",
       "       [[139, 134, 145, ..., 141, 166, 178],\n",
       "        [128, 116, 119, ..., 123, 119, 121],\n",
       "        [128, 107,  96, ..., 121, 118, 117],\n",
       "        ...,\n",
       "        [174, 148, 106, ...,  88,  89,  89],\n",
       "        [179, 140, 108, ...,  80,  80,  81],\n",
       "        [174, 133, 113, ...,  78,  79,  79]]], dtype=uint8)"
      ]
     },
     "execution_count": 9,
     "metadata": {},
     "output_type": "execute_result"
    }
   ],
   "source": [
    "images"
   ]
  },
  {
   "cell_type": "code",
   "execution_count": 10,
   "id": "9eee13ef",
   "metadata": {},
   "outputs": [],
   "source": [
    "images = result_images / 255.0"
   ]
  },
  {
   "cell_type": "code",
   "execution_count": 11,
   "id": "8ea8f240",
   "metadata": {},
   "outputs": [
    {
     "name": "stdout",
     "output_type": "stream",
     "text": [
      "Toplam resim sayısı: 41510\n",
      "Toplam etiket sayısı: 41510\n",
      "(41510, 96, 96, 1)\n"
     ]
    }
   ],
   "source": [
    "print(f\"Toplam resim sayısı: {len(images)}\")\n",
    "print(f\"Toplam etiket sayısı: {len(labels)}\")\n",
    "\n",
    "images = images.reshape(-1,img_size,img_size,1)\n",
    "#images = images.reshape(-1,img_size,img_size,3)\n",
    "#images = images.reshape((len(images),-1))\n",
    "print(images.shape)"
   ]
  },
  {
   "cell_type": "code",
   "execution_count": 12,
   "id": "4692fdff",
   "metadata": {},
   "outputs": [
    {
     "name": "stdout",
     "output_type": "stream",
     "text": [
      "(41510, 7)\n"
     ]
    }
   ],
   "source": [
    "labels = to_categorical(labels)\n",
    "print(labels.shape)"
   ]
  },
  {
   "cell_type": "markdown",
   "id": "4e8b8e69",
   "metadata": {},
   "source": [
    "# Görüntü İşleme"
   ]
  },
  {
   "cell_type": "code",
   "execution_count": 13,
   "id": "32838804",
   "metadata": {},
   "outputs": [],
   "source": [
    "#sobel\n",
    "\n",
    "def Sobel(result_images):\n",
    "    result_processed_images = []\n",
    "\n",
    "    for image in result_images:\n",
    "        img1 = cv.Sobel(image,cv.CV_8U,0,1)\n",
    "        img2 = cv.Sobel(image,cv.CV_8U,1,0)\n",
    "        img3 = cv.Sobel(image,cv.CV_8U,1,1)\n",
    "\n",
    "        combined_image = cv.add(img1, img2)\n",
    "        combined_image = cv.add(combined_image, img3)\n",
    "\n",
    "        result_processed_images.append(combined_image)\n",
    "\n",
    "    processed_images = np.asarray(result_processed_images)\n",
    "    processed_images = processed_images / 255.0\n",
    "    \n",
    "    return processed_images\n",
    "\n",
    "\n",
    "#lbp\n",
    "\n",
    "def Lbp(result_images,radius=1, n_points=8):\n",
    "    result_processed_images = []\n",
    "\n",
    "    for image in result_images:\n",
    "        lbp = local_binary_pattern(image, n_points, radius)\n",
    "        result_processed_images.append(lbp)\n",
    "\n",
    "    processed_images = np.asarray(result_processed_images)\n",
    "    processed_images = processed_images / 255.0\n",
    "    \n",
    "    return processed_images\n",
    "\n",
    "#gauss\n",
    "\n",
    "def Gauss(result_images,ksize=3):\n",
    "    result_processed_images = []\n",
    "\n",
    "    for image in result_images:\n",
    "        blur = cv.GaussianBlur(image,(ksize,ksize),0)\n",
    "        result_processed_images.append(blur)\n",
    "\n",
    "    processed_images = np.asarray(result_processed_images)\n",
    "    processed_images = processed_images / 255.0\n",
    "    \n",
    "    return processed_images\n",
    "\n",
    "# hog\n",
    "\n",
    "def Hog(result_images):\n",
    "    result_processed_images = []\n",
    "\n",
    "    for image in result_images:\n",
    "        _,hogg = hog(image,visualize=True)\n",
    "        result_processed_images.append(hogg)\n",
    "\n",
    "    processed_images = np.asarray(result_processed_images)\n",
    "    \n",
    "    '''\n",
    "    with open('hog.pkl', 'wb') as file:\n",
    "        pickle.dump(result_processed_images, file)\n",
    "    '''    \n",
    "    return processed_images"
   ]
  },
  {
   "cell_type": "code",
   "execution_count": 15,
   "id": "a6554820",
   "metadata": {},
   "outputs": [],
   "source": [
    "processed_images = Hog(result_images)\n",
    "images = Lbp(result_images,1,8)"
   ]
  },
  {
   "cell_type": "code",
   "execution_count": 19,
   "id": "f0b91a55",
   "metadata": {},
   "outputs": [
    {
     "data": {
      "text/plain": [
       "\"\\nwith open('hog.pkl', 'rb') as file:\\n    images = pickle.load(file)\\nimages = np.asarray(images)\\nimages = images.reshape(-1,img_size,img_size,1)\\nimages = images/255.0\\n\""
      ]
     },
     "execution_count": 19,
     "metadata": {},
     "output_type": "execute_result"
    }
   ],
   "source": [
    "with open('hog.pkl', 'rb') as file:\n",
    "    processed_images = pickle.load(file)\n",
    "    \n",
    "processed_images = np.asarray(processed_images)\n",
    "processed_images = processed_images.reshape(-1,img_size,img_size,1)\n",
    "#processed_images = processed_images / 255.0\n",
    "\n",
    "'''\n",
    "with open('hog.pkl', 'rb') as file:\n",
    "    images = pickle.load(file)\n",
    "images = np.asarray(images)\n",
    "images = images.reshape(-1,img_size,img_size,1)\n",
    "images = images/255.0\n",
    "'''"
   ]
  },
  {
   "cell_type": "code",
   "execution_count": 20,
   "id": "cf24b2d4",
   "metadata": {},
   "outputs": [
    {
     "data": {
      "text/plain": [
       "1.0"
      ]
     },
     "execution_count": 20,
     "metadata": {},
     "output_type": "execute_result"
    }
   ],
   "source": [
    "images.max()"
   ]
  },
  {
   "cell_type": "code",
   "execution_count": 21,
   "id": "a8258a93",
   "metadata": {},
   "outputs": [
    {
     "data": {
      "text/plain": [
       "0.7768293642530254"
      ]
     },
     "execution_count": 21,
     "metadata": {},
     "output_type": "execute_result"
    }
   ],
   "source": [
    "processed_images.max()"
   ]
  },
  {
   "cell_type": "code",
   "execution_count": null,
   "id": "7c90e42c",
   "metadata": {},
   "outputs": [],
   "source": []
  },
  {
   "cell_type": "markdown",
   "id": "45f01dbf",
   "metadata": {},
   "source": [
    "# Veri Setlerinin Düzgün Okunduğunun Test Edilmesi"
   ]
  },
  {
   "cell_type": "code",
   "execution_count": 22,
   "id": "bd6d1488",
   "metadata": {},
   "outputs": [
    {
     "data": {
      "image/png": "[encoded data removed]",
      "text/plain": [
       "<Figure size 640x480 with 2 Axes>"
      ]
     },
     "metadata": {},
     "output_type": "display_data"
    }
   ],
   "source": [
    "num = np.random.randint(len(labels))\n",
    "\n",
    "plt.subplot(1, 3, 1)\n",
    "plt.imshow(images[num], cmap='gray')\n",
    "plt.xticks([]), plt.yticks([])\n",
    "plt.title('Orijinal Görüntü')\n",
    "\n",
    "plt.subplot(1, 3, 2)\n",
    "plt.imshow(processed_images[num], cmap='gray')\n",
    "plt.xticks([]), plt.yticks([])\n",
    "plt.title('İşlenmiş Görüntü')\n",
    "\n",
    "\n",
    "'''\n",
    "plt.subplot(1, 3, 3)\n",
    "plt.imshow(added_images[num], cmap='gray')\n",
    "plt.title('Orijinal + İslenmis')\n",
    "'''\n",
    "\n",
    "\n",
    "'''\n",
    "plt.subplot(1, 3, 3)\n",
    "added_image = cv.add(result_images[num], processed_images[num])\n",
    "plt.imshow(added_image, cmap='gray')\n",
    "plt.title('Orijinal + LBP')\n",
    "'''\n",
    "\n",
    "plt.show()"
   ]
  },
  {
   "cell_type": "code",
   "execution_count": 23,
   "id": "cd787f35",
   "metadata": {},
   "outputs": [],
   "source": [
    "#processed_images = images\n",
    "#images = images.reshape(-1,img_size,img_size)\n",
    "processed_images = processed_images.reshape(-1,img_size,img_size)\n",
    "#processed_images = processed_images.reshape(-1,img_size,img_size,1)\n",
    "\n",
    "processed_images = np.stack((images,processed_images),axis=3)"
   ]
  },
  {
   "cell_type": "markdown",
   "id": "22e8e627",
   "metadata": {},
   "source": [
    "# Veri Setinin Train-Test Şeklinde Bölünmesi"
   ]
  },
  {
   "cell_type": "code",
   "execution_count": 24,
   "id": "db5483e6",
   "metadata": {},
   "outputs": [],
   "source": [
    "x_train,x_test,y_train,y_test = train_test_split(processed_images,labels,test_size=0.2,random_state=10)"
   ]
  },
  {
   "cell_type": "markdown",
   "id": "2fdb532a",
   "metadata": {},
   "source": [
    "# Modelin Eğitilmesi"
   ]
  },
  {
   "cell_type": "code",
   "execution_count": 25,
   "id": "4d39d7ca",
   "metadata": {},
   "outputs": [
    {
     "name": "stdout",
     "output_type": "stream",
     "text": [
      "[PhysicalDevice(name='/physical_device:GPU:0', device_type='GPU')]\n",
      "[PhysicalDevice(name='/physical_device:GPU:0', device_type='GPU')]\n",
      "1 Physical GPUs, 1 Logical GPUs\n"
     ]
    }
   ],
   "source": [
    "print(tf.config.list_physical_devices('GPU'))\n",
    "os.environ[\"CUDA_VISIBLE_DEVICES\"] = \"1\"\n",
    "print(tf.config.list_physical_devices('GPU'))\n",
    "\n",
    "# GPU ayarlarını yapılandırma\n",
    "gpus = tf.config.experimental.list_physical_devices('GPU')\n",
    "\n",
    "if gpus:\n",
    "    try:\n",
    "        # Bellek sınırlarını tanımla\n",
    "        for gpu in gpus:\n",
    "            tf.config.experimental.set_virtual_device_configuration(\n",
    "                gpu,\n",
    "                [tf.config.experimental.VirtualDeviceConfiguration(memory_limit=4096)])  # 4 GB (4096 MB)\n",
    "        logical_gpus = tf.config.experimental.list_logical_devices('GPU')\n",
    "        print(len(gpus), \"Physical GPUs,\", len(logical_gpus), \"Logical GPUs\")\n",
    "    except RuntimeError as e:\n",
    "        # Bellek sınırları yapılandırılamazsa\n",
    "        print(e)"
   ]
  },
  {
   "cell_type": "code",
   "execution_count": 26,
   "id": "b777aae2",
   "metadata": {},
   "outputs": [
    {
     "name": "stdout",
     "output_type": "stream",
     "text": [
      "(33208, 96, 96, 2)\n",
      "(8302, 96, 96, 2)\n",
      "(33208, 7)\n",
      "(8302, 7)\n"
     ]
    }
   ],
   "source": [
    "print(x_train.shape)\n",
    "print(x_test.shape)\n",
    "print(y_train.shape)\n",
    "print(y_test.shape)"
   ]
  },
  {
   "cell_type": "code",
   "execution_count": 27,
   "id": "e26795f3",
   "metadata": {},
   "outputs": [],
   "source": [
    "emotion_dedection_model = Sequential([\n",
    "    \n",
    "    Conv2D(64, (3,3), activation='relu'),\n",
    "    Conv2D(64, (3,3), activation='relu'),\n",
    "    MaxPooling2D((2,2)),\n",
    "    \n",
    "    Conv2D(96, (3,3), activation='relu'),\n",
    "    Conv2D(96, (3,3), activation='relu'),\n",
    "    MaxPooling2D((2,2)),\n",
    "    \n",
    "    Conv2D(128, (3,3), activation='relu'),\n",
    "    Conv2D(128, (3,3), activation='relu'),\n",
    "    MaxPooling2D((2,2)),\n",
    "    \n",
    "    Conv2D(256, (3,3), activation='relu'),\n",
    "    Conv2D(256, (3,3), activation='relu'),\n",
    "    MaxPooling2D((2,2)),\n",
    "    \n",
    "    Dropout(0.20),\n",
    "    \n",
    "    Flatten(),\n",
    "    Dense(256,activation='relu'),\n",
    "    Dense(256,activation='relu'),\n",
    "\n",
    "    Dense(7,activation='softmax')\n",
    "])\n",
    "\n",
    "'''\n",
    "\n",
    "emotion_dedection_model = Sequential([\n",
    "    \n",
    "    Conv2D(128, (10,10), activation='relu'),\n",
    "    MaxPooling2D((2,2)),\n",
    "    \n",
    "    Conv2D(256, (5,5), activation='relu'),\n",
    "    MaxPooling2D((2,2)),\n",
    "    \n",
    "    Conv2D(256, (3,3), activation='relu'),\n",
    "    MaxPooling2D((2,2)),\n",
    "    \n",
    "    Conv2D(128, (3,3), activation='relu'),\n",
    "    \n",
    "    #Dropout(0.20),\n",
    "    \n",
    "    Flatten(),\n",
    "    \n",
    "    Dense(2048,activation='relu'),\n",
    "    Dense(1024,activation='relu'),\n",
    "\n",
    "    Dense(7,activation='softmax')\n",
    "])\n",
    "\n",
    "'''\n",
    "\n",
    "'''\n",
    "emotion_dedection_model = Sequential([\n",
    "    \n",
    "    Conv2D(128, (10,10), activation='relu'),\n",
    "    MaxPooling2D((2,2)),\n",
    "    \n",
    "    Conv2D(256, (5,5), activation='relu'),\n",
    "    MaxPooling2D((2,2)),\n",
    "    \n",
    "    \n",
    "    Conv2D(128, (3,3), activation='relu'),\n",
    "    \n",
    "    #Dropout(0.20),\n",
    "    \n",
    "    Flatten(),\n",
    "    \n",
    "    Dense(2048,activation='relu'),\n",
    "    Dense(256,activation='relu'),\n",
    "\n",
    "    Dense(7,activation='softmax')\n",
    "])\n",
    "'''\n",
    "emotion_dedection_model.compile(optimizer = tf.keras.optimizers.RMSprop(learning_rate=.0001),\n",
    "                                loss = 'categorical_crossentropy',\n",
    "                                metrics=['accuracy'])\n"
   ]
  },
  {
   "cell_type": "code",
   "execution_count": 28,
   "id": "8b338b48",
   "metadata": {
    "scrolled": true
   },
   "outputs": [
    {
     "name": "stdout",
     "output_type": "stream",
     "text": [
      "Epoch 1/50\n",
      "831/831 [==============================] - 66s 65ms/step - loss: 1.7059 - accuracy: 0.3131 - val_loss: 1.4380 - val_accuracy: 0.4133\n",
      "Epoch 2/50\n",
      "831/831 [==============================] - 35s 42ms/step - loss: 1.3125 - accuracy: 0.4780 - val_loss: 1.1958 - val_accuracy: 0.5211\n",
      "Epoch 3/50\n",
      "831/831 [==============================] - 34s 41ms/step - loss: 1.1805 - accuracy: 0.5366 - val_loss: 1.1215 - val_accuracy: 0.5613\n",
      "Epoch 4/50\n",
      "831/831 [==============================] - 38s 45ms/step - loss: 1.0964 - accuracy: 0.5733 - val_loss: 1.1166 - val_accuracy: 0.5715\n",
      "Epoch 5/50\n",
      "831/831 [==============================] - 35s 42ms/step - loss: 1.0310 - accuracy: 0.6014 - val_loss: 1.0594 - val_accuracy: 0.5772\n",
      "Epoch 6/50\n",
      "831/831 [==============================] - 41s 49ms/step - loss: 0.9769 - accuracy: 0.6236 - val_loss: 1.0403 - val_accuracy: 0.5912\n",
      "Epoch 7/50\n",
      "831/831 [==============================] - 35s 42ms/step - loss: 0.9288 - accuracy: 0.6407 - val_loss: 0.9885 - val_accuracy: 0.6233\n",
      "Epoch 8/50\n",
      "831/831 [==============================] - 36s 43ms/step - loss: 0.8860 - accuracy: 0.6608 - val_loss: 0.9555 - val_accuracy: 0.6435\n",
      "Epoch 9/50\n",
      "831/831 [==============================] - 36s 43ms/step - loss: 0.8378 - accuracy: 0.6819 - val_loss: 0.9541 - val_accuracy: 0.6442\n",
      "Epoch 10/50\n",
      "831/831 [==============================] - 37s 45ms/step - loss: 0.7992 - accuracy: 0.6935 - val_loss: 0.9333 - val_accuracy: 0.6478\n",
      "Epoch 11/50\n",
      "831/831 [==============================] - 40s 48ms/step - loss: 0.7566 - accuracy: 0.7126 - val_loss: 0.9373 - val_accuracy: 0.6390\n",
      "Epoch 12/50\n",
      "831/831 [==============================] - 44s 53ms/step - loss: 0.7181 - accuracy: 0.7270 - val_loss: 0.9793 - val_accuracy: 0.6396\n",
      "Epoch 13/50\n",
      "831/831 [==============================] - 44s 52ms/step - loss: 0.6784 - accuracy: 0.7426 - val_loss: 0.9078 - val_accuracy: 0.6680\n",
      "Epoch 14/50\n",
      "831/831 [==============================] - 43s 52ms/step - loss: 0.6346 - accuracy: 0.7635 - val_loss: 0.9697 - val_accuracy: 0.6527\n",
      "Epoch 15/50\n",
      "831/831 [==============================] - 47s 57ms/step - loss: 0.5958 - accuracy: 0.7765 - val_loss: 0.9586 - val_accuracy: 0.6655\n",
      "Epoch 16/50\n",
      "831/831 [==============================] - 51s 61ms/step - loss: 0.5591 - accuracy: 0.7923 - val_loss: 0.9386 - val_accuracy: 0.6783\n",
      "Epoch 17/50\n",
      "831/831 [==============================] - 47s 57ms/step - loss: 0.5195 - accuracy: 0.8084 - val_loss: 1.0860 - val_accuracy: 0.6640\n",
      "Epoch 18/50\n",
      "831/831 [==============================] - 42s 51ms/step - loss: 0.4784 - accuracy: 0.8206 - val_loss: 1.0498 - val_accuracy: 0.6625\n",
      "Epoch 19/50\n",
      "831/831 [==============================] - 43s 52ms/step - loss: 0.4436 - accuracy: 0.8365 - val_loss: 1.1060 - val_accuracy: 0.6697\n",
      "Epoch 20/50\n",
      "831/831 [==============================] - 39s 47ms/step - loss: 0.4065 - accuracy: 0.8466 - val_loss: 1.1046 - val_accuracy: 0.6709\n",
      "Epoch 21/50\n",
      "831/831 [==============================] - 51s 62ms/step - loss: 0.3761 - accuracy: 0.8602 - val_loss: 1.1138 - val_accuracy: 0.6739\n",
      "Epoch 22/50\n",
      "831/831 [==============================] - 47s 57ms/step - loss: 0.3439 - accuracy: 0.8732 - val_loss: 1.1550 - val_accuracy: 0.6588\n",
      "Epoch 23/50\n",
      "831/831 [==============================] - 48s 57ms/step - loss: 0.3199 - accuracy: 0.8814 - val_loss: 1.2114 - val_accuracy: 0.6632\n"
     ]
    },
    {
     "data": {
      "text/plain": [
       "<keras.callbacks.History at 0x24c55ccc1f0>"
      ]
     },
     "execution_count": 28,
     "metadata": {},
     "output_type": "execute_result"
    }
   ],
   "source": [
    "early_stopping = EarlyStopping(monitor='val_loss', patience=10, restore_best_weights=True)\n",
    "\n",
    "emotion_dedection_model.fit(x_train,y_train,epochs=50,validation_split=0.2,callbacks=[early_stopping])"
   ]
  },
  {
   "cell_type": "code",
   "execution_count": 29,
   "id": "e6bdf278",
   "metadata": {},
   "outputs": [
    {
     "name": "stdout",
     "output_type": "stream",
     "text": [
      "Model: \"sequential\"\n",
      "_________________________________________________________________\n",
      " Layer (type)                Output Shape              Param #   \n",
      "=================================================================\n",
      " conv2d (Conv2D)             (None, 94, 94, 32)        608       \n",
      "                                                                 \n",
      " conv2d_1 (Conv2D)           (None, 92, 92, 32)        9248      \n",
      "                                                                 \n",
      " max_pooling2d (MaxPooling2D  (None, 46, 46, 32)       0         \n",
      " )                                                               \n",
      "                                                                 \n",
      " conv2d_2 (Conv2D)           (None, 44, 44, 64)        18496     \n",
      "                                                                 \n",
      " conv2d_3 (Conv2D)           (None, 42, 42, 64)        36928     \n",
      "                                                                 \n",
      " max_pooling2d_1 (MaxPooling  (None, 21, 21, 64)       0         \n",
      " 2D)                                                             \n",
      "                                                                 \n",
      " conv2d_4 (Conv2D)           (None, 19, 19, 128)       73856     \n",
      "                                                                 \n",
      " conv2d_5 (Conv2D)           (None, 17, 17, 128)       147584    \n",
      "                                                                 \n",
      " max_pooling2d_2 (MaxPooling  (None, 8, 8, 128)        0         \n",
      " 2D)                                                             \n",
      "                                                                 \n",
      " conv2d_6 (Conv2D)           (None, 6, 6, 128)         147584    \n",
      "                                                                 \n",
      " conv2d_7 (Conv2D)           (None, 4, 4, 128)         147584    \n",
      "                                                                 \n",
      " max_pooling2d_3 (MaxPooling  (None, 2, 2, 128)        0         \n",
      " 2D)                                                             \n",
      "                                                                 \n",
      " dropout (Dropout)           (None, 2, 2, 128)         0         \n",
      "                                                                 \n",
      " flatten (Flatten)           (None, 512)               0         \n",
      "                                                                 \n",
      " dense (Dense)               (None, 256)               131328    \n",
      "                                                                 \n",
      " dense_1 (Dense)             (None, 256)               65792     \n",
      "                                                                 \n",
      " dense_2 (Dense)             (None, 7)                 1799      \n",
      "                                                                 \n",
      "=================================================================\n",
      "Total params: 780,807\n",
      "Trainable params: 780,807\n",
      "Non-trainable params: 0\n",
      "_________________________________________________________________\n"
     ]
    }
   ],
   "source": [
    "emotion_dedection_model.summary()"
   ]
  },
  {
   "cell_type": "code",
   "execution_count": 30,
   "id": "aa4cdc0f",
   "metadata": {
    "scrolled": true
   },
   "outputs": [
    {
     "name": "stdout",
     "output_type": "stream",
     "text": [
      "260/260 [==============================] - 3s 12ms/step - loss: 0.9448 - accuracy: 0.6544\n"
     ]
    },
    {
     "data": {
      "text/plain": [
       "[0.9448015689849854, 0.6544206142425537]"
      ]
     },
     "execution_count": 30,
     "metadata": {},
     "output_type": "execute_result"
    }
   ],
   "source": [
    "emotion_dedection_model.evaluate(x_test,y_test)"
   ]
  },
  {
   "cell_type": "code",
   "execution_count": null,
   "id": "8fc157aa",
   "metadata": {},
   "outputs": [],
   "source": [
    "#emotion_dedection_model.evaluate(images,labels)"
   ]
  },
  {
   "cell_type": "code",
   "execution_count": null,
   "id": "d5fe6683",
   "metadata": {},
   "outputs": [],
   "source": [
    "tahminler = emotion_dedection_model.predict(x_test)\n",
    "print(tahminler)"
   ]
  },
  {
   "cell_type": "code",
   "execution_count": null,
   "id": "1eecab0b",
   "metadata": {},
   "outputs": [],
   "source": [
    "x_train2,x_test2,y_train2,y_test2 = train_test_split(images,labels,test_size=0.2,random_state=10)"
   ]
  },
  {
   "cell_type": "code",
   "execution_count": null,
   "id": "57e405ef",
   "metadata": {},
   "outputs": [],
   "source": [
    "num = np.random.randint(len(y_test))\n",
    "\n",
    "plt.subplot(1, 4, 1)\n",
    "plt.imshow(x_test2[num], cmap='gray')\n",
    "plt.title('Orijinal Görüntü')\n",
    "\n",
    "plt.subplot(1, 4, 3)\n",
    "\n",
    "image = x_test[num]\n",
    "plt.imshow(image[5], cmap='gray')\n",
    "\n",
    "gercek_sonuc = y_test[num].argmax()\n",
    "tahmin = tahminler[num].argmax()\n",
    "\n",
    "plt.title(f'{gercek_sonuc} - {labels_dict[gercek_sonuc]} ||| {tahmin} - {labels_dict[tahmin]}')\n",
    "plt.title(f'gercek: {y_test[num]*100} {labels_dict[gercek_sonuc]}\\ntahmin: {np.round(tahminler[num]*100)} {labels_dict[tahmin]}')\n",
    "plt.show()"
   ]
  },
  {
   "cell_type": "code",
   "execution_count": null,
   "id": "93f726bd",
   "metadata": {},
   "outputs": [],
   "source": [
    "emotion_dedection_model.save('edm_lbp+hog.h5')"
   ]
  },
  {
   "cell_type": "code",
   "execution_count": null,
   "id": "284a3f4a",
   "metadata": {},
   "outputs": [],
   "source": [
    "from sklearn.metrics import precision_score, recall_score, f1_score, accuracy_score\n",
    "\n",
    "model = emotion_dedection_model\n",
    "\n",
    "y_pred_prob = model.predict(x_test)\n",
    "\n",
    "y_pred = np.argmax(y_pred_prob, axis=1)\n",
    "y_true = np.argmax(y_test, axis=1)\n",
    "\n",
    "precision = precision_score(y_true, y_pred, average='weighted')\n",
    "recall = recall_score(y_true, y_pred, average='weighted')\n",
    "f1 = f1_score(y_true, y_pred, average='weighted')\n",
    "accuracy = accuracy_score(y_true, y_pred)\n",
    "\n",
    "print(f'Accuracy: {accuracy:.4f}')\n",
    "print(f'Precision: {precision:.4f}')\n",
    "print(f'Recall: {recall:.4f}')\n",
    "print(f'F1 Score: {f1:.4f}')"
   ]
  },
  {
   "cell_type": "code",
   "execution_count": null,
   "id": "9500d207",
   "metadata": {},
   "outputs": [],
   "source": []
  }
 ],
 "metadata": {
  "kernelspec": {
   "display_name": "Python 3 (ipykernel)",
   "language": "python",
   "name": "python3"
  },
  "language_info": {
   "codemirror_mode": {
    "name": "ipython",
    "version": 3
   },
   "file_extension": ".py",
   "mimetype": "text/x-python",
   "name": "python",
   "nbconvert_exporter": "python",
   "pygments_lexer": "ipython3",
   "version": "3.9.13"
  }
 },
 "nbformat": 4,
 "nbformat_minor": 5
}
